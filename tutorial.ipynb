{
 "cells": [
  {
   "cell_type": "markdown",
   "id": "982df2be-02ee-4f2c-9af5-9fcdd706c9cf",
   "metadata": {},
   "source": [
    "# Yatai "
   ]
  },
  {
   "cell_type": "markdown",
   "id": "0c8be2c1-1060-41b4-aea4-1ae22794387c",
   "metadata": {},
   "source": [
    "Yatai est un outil qui permet de déployer et opérer des services de Machine Learning sur Kubernetes. \n",
    "Il est composé de quatre composants:\n",
    "- Yatai UI: Une interface utilisateur qui permet de gérer et créer les déploiements.\n",
    "- Yatai image builder: elle crée des images docker des services\n",
    "- Yatai deployment: opérateur qui contrôle les déploiements\n",
    "- bentoml: un package python qui offre une CLI et une librairie"
   ]
  },
  {
   "cell_type": "code",
   "execution_count": null,
   "id": "01c88811-a32f-4d99-8a0d-4569e9303496",
   "metadata": {
    "tags": []
   },
   "outputs": [],
   "source": [
    "!pip install -r requirements.txt"
   ]
  },
  {
   "cell_type": "markdown",
   "id": "e74d7fa4-2a5f-40ec-a1b8-5f3f58a484d2",
   "metadata": {},
   "source": [
    "On commence par lancer yatai via sspcloud, créer un token et se connecter avec la commande suivante:"
   ]
  },
  {
   "cell_type": "code",
   "execution_count": 2,
   "id": "854ece9c-9dfe-4891-bb9a-af48757158d3",
   "metadata": {
    "tags": []
   },
   "outputs": [
    {
     "name": "stdout",
     "output_type": "stream",
     "text": [
      "Successfully logged in as user \"toto\" in organization \"default\".\n"
     ]
    }
   ],
   "source": [
    "!bentoml yatai login --api-token cfrnq833h05c73a6o3ng --endpoint https://yatai.lab.sspcloud.fr"
   ]
  },
  {
   "cell_type": "markdown",
   "id": "b39160a0-cd27-4d93-90e0-4b32586e6fc9",
   "metadata": {
    "tags": []
   },
   "source": [
    "## 1- Entrainement du modèle"
   ]
  },
  {
   "cell_type": "markdown",
   "id": "90de12da-90bc-4eee-969f-f6f4a8a7d660",
   "metadata": {},
   "source": [
    "Un modèle doit être enregisté avec BentoML pour qu'on puisse le déployer avec yatai. Dans ce cas, on a un modèle Sklearn que l'on enregistre sous le bon format en utilisant la fonction (voir `train.py`):\n",
    "````python\n",
    "saved_model = bentoml.sklearn.save_model(\n",
    "    args.model_name,\n",
    "    model,\n",
    "    metadata=metadata\n",
    ")\n",
    "````\n",
    "- metadata : c'est un dictionnaire qui contient les métadonnées. Dans cet exemple, on enregistre la précision du modèle."
   ]
  },
  {
   "cell_type": "code",
   "execution_count": 3,
   "id": "583dd9bf-d8be-4827-8d9e-dd8b6f251598",
   "metadata": {
    "tags": []
   },
   "outputs": [
    {
     "name": "stdout",
     "output_type": "stream",
     "text": [
      "Model saved: Model(tag=\"regressor:bhpiufftromnlntx\")\n"
     ]
    }
   ],
   "source": [
    "!python train.py"
   ]
  },
  {
   "cell_type": "markdown",
   "id": "53883bba-7e6e-4ecd-934e-54a9c01aacc6",
   "metadata": {},
   "source": [
    "On peut lister les modèles enregistrés en utilisant l'interface en ligne de commande:"
   ]
  },
  {
   "cell_type": "code",
   "execution_count": 4,
   "id": "8faca94b-2084-4d8e-a55c-2ee7ef06e8f9",
   "metadata": {
    "tags": []
   },
   "outputs": [
    {
     "name": "stdout",
     "output_type": "stream",
     "text": [
      "\u001b[1m \u001b[0m\u001b[1mTag                       \u001b[0m\u001b[1m \u001b[0m\u001b[1m \u001b[0m\u001b[1mModule         \u001b[0m\u001b[1m \u001b[0m\u001b[1m \u001b[0m\u001b[1mSize    \u001b[0m\u001b[1m \u001b[0m\u001b[1m \u001b[0m\u001b[1mCreation Time      \u001b[0m\u001b[1m \u001b[0m\n",
      " regressor:bhpiufftromnlntx  bentoml.sklearn  2.51 MiB  2023-02-23 15:02:06 \n"
     ]
    }
   ],
   "source": [
    "!bentoml models list"
   ]
  },
  {
   "cell_type": "markdown",
   "id": "ce785abc-eaae-4e7a-be79-23797cd7865d",
   "metadata": {},
   "source": [
    "Yatai offre un dépot centralisé des modèles. Il est configuré pour qu'il enregistre les modèles sur votre bucket S3. Pour exporter et importer des modèles sur yatai, on utilise les commandes: `bentoml models push/pull <model>`."
   ]
  },
  {
   "cell_type": "code",
   "execution_count": 5,
   "id": "fd26857c-70ca-4d69-bfe8-dc90dd24d9d8",
   "metadata": {
    "tags": []
   },
   "outputs": [
    {
     "name": "stdout",
     "output_type": "stream",
     "text": [
      "\u001b[?25l╭──────────────────────────────────────────────────────────────────────────────╮\n",
      "\u001b[2K\u001b[1A\u001b[2K╭──────────────────────────────────────────────────────────────────────────────╮\n",
      "│    \u001b[33m0:00:00\u001b[0m \u001b[1;35mRegistering model \"regressor:bhpiufftromnlntx\" with Yatai..\u001b[0m \u001b[32m.  \u001b[0m   │\n",
      "\u001b[2K\u001b[1A\u001b[2K\u001b[1A\u001b[2K╭──────────────────────────────────────────────────────────────────────────────╮\n",
      "│    \u001b[33m0:00:00\u001b[0m \u001b[1;35mCreating tar archive for model \"regressor:bhpiufftromnlntx\"..\u001b[0m \u001b[32m.  \u001b[0m │\n",
      "\u001b[2K\u001b[1A\u001b[2K\u001b[1A\u001b[2K╭──────────────────────────────────────────────────────────────────────────────╮\n",
      "│    \u001b[33m0:00:00\u001b[0m \u001b[1;35mCreating tar archive for model \"regressor:bhpiufftromnlntx\"..\u001b[0m \u001b[32m.. \u001b[0m │\n",
      "\u001b[2K\u001b[1A\u001b[2K\u001b[1A\u001b[2K╭──────────────────────────────────────────────────────────────────────────────╮\n",
      "│    \u001b[33m0:00:00\u001b[0m \u001b[1;35mCreating tar archive for model \"regressor:bhpiufftromnlntx\"..\u001b[0m \u001b[32m.. \u001b[0m │\n",
      "\u001b[2K\u001b[1A\u001b[2K\u001b[1A\u001b[2K╭──────────────────────────────────────────────────────────────────────────────╮\n",
      "│    \u001b[33m0:00:00\u001b[0m \u001b[1;35mCreating tar archive for model \"regressor:bhpiufftromnlntx\"..\u001b[0m \u001b[32m...\u001b[0m │\n",
      "\u001b[2K\u001b[1A\u001b[2K\u001b[1A\u001b[2K╭──────────────────────────────────────────────────────────────────────────────╮\n",
      "│    \u001b[33m0:00:01\u001b[0m \u001b[1;35mCreating tar archive for model \"regressor:bhpiufftromnlntx\"..\u001b[0m \u001b[32m   \u001b[0m │\n",
      "\u001b[2K\u001b[1A\u001b[2K\u001b[1A\u001b[2K╭──────────────────────────────────────────────────────────────────────────────╮\n",
      "╰──────────────────────────────────────────────────────────────────────────────╯\n",
      "\u001b[1;34mUploading model \"regressor:bhpiufftromnlntx\"\u001b[0m \u001b[90m━━━━\u001b[0m \u001b[35m100.0%\u001b[0m • \u001b[32m790.…\u001b[0m • \u001b[31m17.1\u001b[0m • \u001b[36m0:00:…\u001b[0m\n",
      "\u001b[2K\u001b[1A\u001b[2K\u001b[1A\u001b[2K\u001b[1A\u001b[2K╭──────────────────────────────────────────────────────────────────────────────╮\n",
      "│ \u001b[1;32mSuccessfully pushed model \"regressor:bhpiufftromnlntx\"\u001b[0m                       │\n",
      "╰──────────────────────────────────────────────────────────────────────────────╯\n",
      "\u001b[1;34mUploading model \"regressor:bhpiufftromnlntx\"\u001b[0m \u001b[90m━━━━\u001b[0m \u001b[35m100.0%\u001b[0m • \u001b[32m790.…\u001b[0m • \u001b[31m17.1\u001b[0m • \u001b[36m0:00:…\u001b[0m\n",
      "                                                           \u001b[32mkB   \u001b[0m   \u001b[31mMB/s\u001b[0m         \n",
      "\u001b[?25h"
     ]
    }
   ],
   "source": [
    "!bentoml models push regressor:bhpiufftromnlntx"
   ]
  },
  {
   "cell_type": "markdown",
   "id": "cdcc1a14-6c69-44cf-b41b-df2e992a783e",
   "metadata": {
    "tags": []
   },
   "source": [
    "## 2- Création du service"
   ]
  },
  {
   "cell_type": "markdown",
   "id": "b60a3455-29c9-4d05-886d-87e9d123565f",
   "metadata": {
    "tags": []
   },
   "source": [
    "BentoML offre un framework pour créer des services afin de déployer des modèles. \n",
    "Un service bentoml est composé des runners et des APIs. \n",
    "\n",
    "- Runner: Il s'agit de la méthode d'exécuter l'inférence du modèle. Dans `service.py`, on crée un runner pour le modèle avec: `model_runner = bentoml.sklearn.get(\"regressor:latest\").to_runner()`\n",
    "- APIs: les APIs définissent comment exposer le service. Un service peut avoir un ou plusieurs APIs. Une API est définie par l'entrée, la sortie et la fonction à exécuter. En décorant une fonction avec `@svc.api`, nous déclarons que la fonction doit être invoquée lorsque cette API est appelée. La fonction API est un endroit idéal pour définir votre logique de service, telle que la récupération de fonctionnalités, le pré et le post-traitement et les inférences de modèle via Runners. En appliquant le service, l'API est transformée en un endpoint HTTP. Dans cet exemple, la fonction `predict` sera exposé via le chemin `/predict`. On peut aussi spécifier le chemin de la fonction dans le décorateur avec: `@svc.api(route='/predict')`."
   ]
  },
  {
   "cell_type": "markdown",
   "id": "dfd150c3-8f38-4cbf-bede-c04bbf86774f",
   "metadata": {
    "tags": []
   },
   "source": [
    "On peut tester le service créé avec la commande suivante (service fait référence à `service.py`):"
   ]
  },
  {
   "cell_type": "code",
   "execution_count": 6,
   "id": "fb45927c-0a0b-48cf-a2b0-a8a990a910cc",
   "metadata": {
    "tags": []
   },
   "outputs": [
    {
     "name": "stdout",
     "output_type": "stream",
     "text": [
      "2023-02-23T15:04:46+0000 [INFO] [cli] Prometheus metrics for HTTP BentoServer from \"service:svc\" can be accessed at http://localhost:3000/metrics.\n",
      "2023-02-23T15:04:47+0000 [INFO] [cli] Starting development HTTP BentoServer from \"service:svc\" listening on http://0.0.0.0:3000 (Press CTRL+C to quit)\n",
      "2023-02-23T15:04:59+0000 [INFO] [dev_api_server:regression] 10.233.116.0:35932 (scheme=http,method=GET,path=/,type=,length=) (status=200,type=text/html; charset=utf-8,length=2859) 0.799ms (trace=eb86708cae0bb8bc8f91a5efe171f639,span=1f4b29dc228391aa,sampled=0)\n",
      "2023-02-23T15:05:00+0000 [INFO] [dev_api_server:regression] 10.233.116.0:35944 (scheme=http,method=GET,path=/static_content/index.css,type=,length=) (status=200,type=text/css; charset=utf-8,length=1125) 32.569ms (trace=9c4ab71ccb417e271a4d273144fe043d,span=81c6c1f6d66c5b26,sampled=0)\n",
      "2023-02-23T15:05:00+0000 [INFO] [dev_api_server:regression] 10.233.116.0:35932 (scheme=http,method=GET,path=/static_content/swagger-ui.css,type=,length=) (status=200,type=text/css; charset=utf-8,length=143980) 50.286ms (trace=ba4ab9a3dc0191ae3f0bde17026a7139,span=4edc88e98107b86d,sampled=0)\n",
      "2023-02-23T15:05:00+0000 [INFO] [dev_api_server:regression] 10.233.116.0:35946 (scheme=http,method=GET,path=/static_content/swagger-ui-bundle.js,type=,length=) (status=200,type=text/javascript; charset=utf-8,length=1096221) 48.311ms (trace=40bdbfc0682cd3cd5d84cecbe9f2c975,span=7dd698bef470da6c,sampled=0)\n",
      "2023-02-23T15:05:03+0000 [INFO] [dev_api_server:regression] 10.233.116.0:35944 (scheme=http,method=GET,path=/static_content/swagger-ui-standalone-preset.js,type=,length=) (status=200,type=text/javascript; charset=utf-8,length=339540) 55.611ms (trace=9a25e7eca6077ea66d379e67a1101b8b,span=95f588a7cf79e6e8,sampled=0)\n",
      "2023-02-23T15:05:07+0000 [INFO] [dev_api_server:regression] 10.233.116.0:36020 (scheme=http,method=GET,path=/static_content/swagger-initializer.js,type=,length=) (status=200,type=text/javascript; charset=utf-8,length=383) 3.242ms (trace=18660e91d7942b2cc018fec3bdc5305d,span=1a176115ef3b999d,sampled=0)\n",
      "2023-02-23T15:05:08+0000 [INFO] [dev_api_server:regression] 10.233.116.0:35944 (scheme=http,method=GET,path=/docs.json,type=,length=) (status=200,type=application/json,length=4760) 25.692ms (trace=6114971b441ea3f35daf5f434633169d,span=2510baeae51d3f9b,sampled=0)\n",
      "2023-02-23T15:05:08+0000 [INFO] [dev_api_server:regression] 10.233.116.0:36020 (scheme=http,method=GET,path=/static_content/favicon-32x32.png,type=,length=) (status=200,type=image/png,length=1912) 2.528ms (trace=d3a5ccbe6904d5d32769f11638f098eb,span=43f959ef15db8d68,sampled=0)\n",
      "/opt/mamba/lib/python3.10/site-packages/sklearn/base.py:420: UserWarning: X does not have valid feature names, but RandomForestRegressor was fitted with feature names\n",
      "  warnings.warn(\n",
      "2023-02-23T15:05:38+0000 [INFO] [dev_api_server:regression] 10.233.116.0:36422 (scheme=http,method=POST,path=/predict,type=application/json,length=31) (status=200,type=application/json,length=19) 37.034ms (trace=5e9506d6bfd02f57bfc56aceab07ed75,span=47c81490760baf06,sampled=0)\n",
      "^C\n"
     ]
    }
   ],
   "source": [
    "!bentoml serve service:svc"
   ]
  },
  {
   "cell_type": "markdown",
   "id": "22ffaf40-2906-46c8-9bd0-9634a5df078f",
   "metadata": {},
   "source": [
    "Vous pouvez consulter le service en changeant votre url du jupyter comme dans l'exemple suivant:\n",
    "- si l'url de jupyter est: https://user-mbenxsalha-600538-0.user.lab.sspcloud.fr/ alors l'url du service est: https://user-mbenxsalha-600538-user.user.lab.sspcloud.fr/ (on change le '0' par 'user')"
   ]
  },
  {
   "cell_type": "markdown",
   "id": "decd5804-10b7-46fe-b9d2-e64d6940e1ed",
   "metadata": {
    "tags": []
   },
   "source": [
    "## 3- Construction de Bento"
   ]
  },
  {
   "cell_type": "markdown",
   "id": "f9943d92-e89c-4095-97be-b595ef4400b4",
   "metadata": {},
   "source": [
    "Bento est une archive de fichiers avec tout le code source, les modèles, les fichiers de données et les configurations de dépendance nécessaires pour exécuter un bentoml.Service défini par l'utilisateur, emballé dans un format standardisé.\n",
    "\n",
    "Alors que bentoml.Service normalise la définition de l'API d'inférence, y compris la logique de service, l'initialisation des runners et l'entrée de l'API, les types de sortie, Bento standardise la manière de reproduire l'environnement requis pour exécuter un bentoml.Service en production."
   ]
  },
  {
   "cell_type": "markdown",
   "id": "005f54e2-8d43-49b1-b606-fe856ba3f197",
   "metadata": {},
   "source": [
    "Un Bento peut être créé avec la commande CLI `bentoml build` et un fichier de construction `bentofile.yaml`.\n",
    "\n",
    "Le fichier de construction définit les dépendances et le code source nécessaires."
   ]
  },
  {
   "cell_type": "code",
   "execution_count": 7,
   "id": "156b0760-ef8a-48f7-ad03-40ec943d566e",
   "metadata": {
    "tags": []
   },
   "outputs": [
    {
     "name": "stdout",
     "output_type": "stream",
     "text": [
      "Building BentoML service \"regression:2cnpbnvtroqnpntx\" from build context \"/home/onyxia/work/yatai-tutorial\".\n",
      "Packing model \"regressor:bhpiufftromnlntx\"\n",
      "Locking PyPI package versions.\n",
      "\n",
      "██████╗░███████╗███╗░░██╗████████╗░█████╗░███╗░░░███╗██╗░░░░░\n",
      "██╔══██╗██╔════╝████╗░██║╚══██╔══╝██╔══██╗████╗░████║██║░░░░░\n",
      "██████╦╝█████╗░░██╔██╗██║░░░██║░░░██║░░██║██╔████╔██║██║░░░░░\n",
      "██╔══██╗██╔══╝░░██║╚████║░░░██║░░░██║░░██║██║╚██╔╝██║██║░░░░░\n",
      "██████╦╝███████╗██║░╚███║░░░██║░░░╚█████╔╝██║░╚═╝░██║███████╗\n",
      "╚═════╝░╚══════╝╚═╝░░╚══╝░░░╚═╝░░░░╚════╝░╚═╝░░░░░╚═╝╚══════╝\n",
      "\n",
      "Successfully built Bento(tag=\"regression:2cnpbnvtroqnpntx\").\n"
     ]
    }
   ],
   "source": [
    "!bentoml build ."
   ]
  },
  {
   "cell_type": "code",
   "execution_count": 8,
   "id": "3ce3997b-e5d9-45d0-b61f-44dd67247840",
   "metadata": {
    "tags": []
   },
   "outputs": [
    {
     "name": "stdout",
     "output_type": "stream",
     "text": [
      "\u001b[1m \u001b[0m\u001b[1mTag                    \u001b[0m\u001b[1m \u001b[0m\u001b[1m \u001b[0m\u001b[1mSize    \u001b[0m\u001b[1m \u001b[0m\u001b[1m \u001b[0m\u001b[1mCreation Time      \u001b[0m\u001b[1m \u001b[0m\u001b[1m \u001b[0m\u001b[1mPath                  \u001b[0m\u001b[1m \u001b[0m\n",
      " regression:2cnpbnvtroq…  2.53 MiB  2023-02-23 15:07:58  ~/bentoml/bentos/regr… \n"
     ]
    }
   ],
   "source": [
    "!bentoml list"
   ]
  },
  {
   "cell_type": "markdown",
   "id": "348c3863-96a5-49c3-8403-08198d56ee46",
   "metadata": {},
   "source": [
    "On peut exporter le Bento créé à Yatai:"
   ]
  },
  {
   "cell_type": "code",
   "execution_count": 9,
   "id": "4cc9799a-971f-426d-93d4-4b4b56130499",
   "metadata": {
    "tags": []
   },
   "outputs": [
    {
     "name": "stdout",
     "output_type": "stream",
     "text": [
      "\u001b[?25l╭──────────────────────────────────────────────────────────────────────────────╮\n",
      "\u001b[2K\u001b[1A\u001b[2K╭──────────────────────────────────────────────────────────────────────────────╮\n",
      "│ \u001b[1;34mModel \"regressor:bhpiufftromnlntx\" already exists in Yatai, skipping\u001b[0m         │\n",
      "│    \u001b[33m0:00:00\u001b[0m \u001b[1;35mBento repository \"regression\" not found, creating now..\u001b[0m \u001b[32m.  \u001b[0m       │\n",
      "\u001b[2K\u001b[1A\u001b[2K\u001b[1A\u001b[2K\u001b[1A\u001b[2K╭──────────────────────────────────────────────────────────────────────────────╮\n",
      "│ \u001b[1;34mModel \"regressor:bhpiufftromnlntx\" already exists in Yatai, skipping\u001b[0m         │\n",
      "│ \u001b[1;32mSuccessfully pushed bento \"regression:2cnpbnvtroqnpntx\"\u001b[0m                      │\n",
      "╰──────────────────────────────────────────────────────────────────────────────╯\n",
      "\u001b[1;34mPushing Bento \"regression:2cnpbnvtroqnpntx\"\u001b[0m \u001b[90m━━━━━━\u001b[0m \u001b[35m100.0%\u001b[0m • \u001b[32m8.1/8…\u001b[0m • \u001b[31m?\u001b[0m • \u001b[36m0:00:00\u001b[0m\n",
      "                                                            \u001b[32mkB    \u001b[0m              \n",
      "\u001b[?25h"
     ]
    }
   ],
   "source": [
    "!bentoml push regression:2cnpbnvtroqnpntx"
   ]
  },
  {
   "cell_type": "markdown",
   "id": "96939dd0-1a1f-44a3-856f-ee3c85f7b245",
   "metadata": {},
   "source": [
    "## 4- Déploiement"
   ]
  },
  {
   "cell_type": "markdown",
   "id": "1f508eac-7490-4dd1-a3ef-3dd18c01ccf2",
   "metadata": {},
   "source": [
    "Une fois le Bento est exporté vers Yatai, il est simple de le déployer via l'interface. Dans la rubrique **deployments** de Yatai, on crée un nouveau et on le configure.\n",
    "Ensuite, Yatai Image Builder lance automatiquement un pod pour construire et publier une image Docker qui correspond au Bento, en utilisant `kaniko`. (cette étape pourrait prendre quelques minutes).\n",
    "\n",
    "Une fois l'image est construite et publiée sur docker hub avec succés, le statut du pod de construction (`yatai-bento-image-builder-regression--2-cnpbnvtroqnpntx` dans cet exemple) devient `completed`. Si une erreur survient, le statut serait `error`. \n",
    "\n",
    "Enfin, l'image construite et les runners sont importés et lancés dans d'autres pods"
   ]
  },
  {
   "cell_type": "code",
   "execution_count": 12,
   "id": "186e93c4-5774-48b4-bee1-aebcf0d4bd33",
   "metadata": {
    "tags": []
   },
   "outputs": [
    {
     "name": "stdout",
     "output_type": "stream",
     "text": [
      "NAME                                                      READY   STATUS      RESTARTS   AGE\n",
      "jupyter-python-600538-0                                   1/1     Running     0          7h19m\n",
      "regressor-5644967654-qjct8                                3/3     Running     0          72s\n",
      "regressor-runner-0-6496fd4f78-bgc5x                       2/2     Running     0          73s\n",
      "vscode-python-581065-0                                    1/1     Running     0          31h\n",
      "yatai-5ff9f98d6f-wfhbm                                    1/1     Running     0          7h40m\n",
      "yatai-bento-image-builder-regression--2-cnpbnvtroqnpntx   0/1     Completed   0          10m\n",
      "yatai-deployment-56586ccdc8-4xfqx                         1/1     Running     0          7h40m\n",
      "yatai-image-builder-6899769469-td6nw                      1/1     Running     0          7h40m\n",
      "yatai-postgresql-0                                        1/1     Running     0          7h40m\n"
     ]
    }
   ],
   "source": [
    "!kubectl get pods"
   ]
  },
  {
   "cell_type": "markdown",
   "id": "b117accf-a12a-4e21-a21a-df08c6b88220",
   "metadata": {},
   "source": [
    "Yatai crée également un objet kubernetes appelé `service` pour exposer le service bento. Dans cet exemple, le nom du service kube est `regressor`."
   ]
  },
  {
   "cell_type": "code",
   "execution_count": 13,
   "id": "e78369cb",
   "metadata": {
    "tags": []
   },
   "outputs": [
    {
     "name": "stdout",
     "output_type": "stream",
     "text": [
      "NAME                                                TYPE        CLUSTER-IP      EXTERNAL-IP   PORT(S)             AGE\n",
      "jupyter-python-600538                               ClusterIP   None            <none>        8888/TCP,3000/TCP   7h20m\n",
      "regressor                                           ClusterIP   10.233.59.184   <none>        3000/TCP,3001/TCP   87s\n",
      "regressor-runner-5efa5688462499626cc1efa9b0639f64   ClusterIP   10.233.1.117    <none>        3000/TCP,3001/TCP   88s\n",
      "vscode-python-581065                                ClusterIP   None            <none>        8080/TCP            31h\n",
      "vscode-python-yatai                                 ClusterIP   None            <none>        3000/TCP            30h\n",
      "yatai                                               ClusterIP   10.233.55.50    <none>        80/TCP              7h41m\n",
      "yatai-deployment-webhook-service                    ClusterIP   10.233.17.43    <none>        443/TCP             7h41m\n",
      "yatai-image-builder-webhook-service                 ClusterIP   10.233.1.245    <none>        443/TCP             7h41m\n",
      "yatai-postgresql                                    ClusterIP   10.233.61.254   <none>        5432/TCP            7h41m\n",
      "yatai-postgresql-hl                                 ClusterIP   None            <none>        5432/TCP            7h41m\n"
     ]
    }
   ],
   "source": [
    "!kubectl get service"
   ]
  },
  {
   "cell_type": "code",
   "execution_count": 14,
   "id": "31b87405",
   "metadata": {
    "tags": []
   },
   "outputs": [
    {
     "name": "stdout",
     "output_type": "stream",
     "text": [
      "[463514.6666666666]"
     ]
    }
   ],
   "source": [
    "!curl -X POST -H \"content-type: application/json\" --data \"[[5, 3, 2, 31, 40]]\" http://regressor:3000/predict"
   ]
  }
 ],
 "metadata": {
  "kernelspec": {
   "display_name": "Python 3 (ipykernel)",
   "language": "python",
   "name": "python3"
  },
  "language_info": {
   "codemirror_mode": {
    "name": "ipython",
    "version": 3
   },
   "file_extension": ".py",
   "mimetype": "text/x-python",
   "name": "python",
   "nbconvert_exporter": "python",
   "pygments_lexer": "ipython3",
   "version": "3.10.8"
  }
 },
 "nbformat": 4,
 "nbformat_minor": 5
}
